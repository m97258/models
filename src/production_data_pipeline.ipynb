{
 "cells": [
  {
   "cell_type": "code",
   "execution_count": 1,
   "metadata": {},
   "outputs": [],
   "source": [
    "# Production Data Pipeline depression predictive Model"
   ]
  },
  {
   "cell_type": "code",
   "execution_count": 3,
   "metadata": {},
   "outputs": [],
   "source": [
    "# production_data_pipeline.ipynb\n",
    "# Author: Mauricio\n",
    "# Date: 30/11/2024\n",
    "# Purpose: data pipeline that runs in production a predictive model for depression\n",
    "# Instructions for running it:\n",
    "#\n",
    "#      This program can be run either with no parameter or with the name of the path and the input file, as shown below, or even with the name of\n",
    "#      the path, the input file, the output path for exported test results and the name of the file for exporting test results:\n",
    "#\n",
    "#      python production_data_pipeline.py\n",
    "#      python production_data_pipeline.py ./data depression_data.csv\n",
    "#      python production_data_pipeline.py ./data depression_data.csv ./test Xtest_exported.csv\n",
    "#\n",
    "#  --------------- Production data pipeline ---------------\n",
    "#\n",
    "#    - Importing the Model\n",
    "#    - Data Collection from Data Sources: Extracting the data from the data sources                 ---- This is used in Modeling data pipeline too\n",
    "#    - Data Transformation/Processing:                                                              ---- This is used in Modeling data pipeline too\n",
    "#            Data Standardization                                                                   ---- This is used in Modeling data pipeline too\n",
    "#    - Data Ingestion: The data on which the model would be used is properly stored                 ---- This is used in Modeling data pipeline too\n",
    "#    - Running Model in Production: Executing the model in production on new data\n",
    "#    - Data Delivered at Destination Point for Consumption"
   ]
  },
  {
   "cell_type": "markdown",
   "metadata": {},
   "source": [
    "# Importing libraries and Constant Definitions"
   ]
  },
  {
   "cell_type": "markdown",
   "metadata": {},
   "source": [
    "### Importing General libraries"
   ]
  },
  {
   "cell_type": "code",
   "execution_count": 7,
   "metadata": {},
   "outputs": [],
   "source": [
    "import sys\n",
    "import warnings"
   ]
  },
  {
   "cell_type": "code",
   "execution_count": 9,
   "metadata": {},
   "outputs": [],
   "source": [
    "warnings.filterwarnings('ignore')"
   ]
  },
  {
   "cell_type": "markdown",
   "metadata": {},
   "source": [
    "### Importing User Defined libraries"
   ]
  },
  {
   "cell_type": "code",
   "execution_count": 12,
   "metadata": {},
   "outputs": [],
   "source": [
    "import constants_library as constants\n",
    "import data_pipelines_library as data_pipelines_library "
   ]
  },
  {
   "cell_type": "markdown",
   "metadata": {},
   "source": [
    "### Importing Constant Definitions"
   ]
  },
  {
   "cell_type": "code",
   "execution_count": 15,
   "metadata": {},
   "outputs": [],
   "source": [
    "# PARAMETRIZATION OF NAMES OF USER CREATED COLUMNS FOR EXPORTING THE PREDICTIONS RUN IN PRODUCTION\n",
    "probability_target_column = constants.NAME_PROBABILITY_TARGET_COLUMN\n",
    "\n",
    "# PARAMETRIZATION OF FILE NAMES\n",
    "default_name_file_current_data      = constants.NAME_FILE_DATA\n",
    "default_name_file_Xtrain_production = constants.NAME_FILE_INGESTED_XTRAIN_PRODUCTION\n",
    "default_name_exported_predictions   = constants.NAME_FILE_EXPORTED_XTEST_RESULTS"
   ]
  },
  {
   "cell_type": "markdown",
   "metadata": {},
   "source": [
    "# 1.- Importing the Model"
   ]
  },
  {
   "cell_type": "code",
   "execution_count": 18,
   "metadata": {},
   "outputs": [],
   "source": [
    "name_path       = 'C:/Users/T4925/PythonCode/AXA/data/'\n",
    "name_path_tests = 'C:/Users/T4925/PythonCode/AXA/test/'"
   ]
  },
  {
   "cell_type": "code",
   "execution_count": 20,
   "metadata": {},
   "outputs": [],
   "source": [
    "cols_categorical, cols_non_categorical, cols_dummy, cols_all_variables, dfmean, dfstd, model_xgb = data_pipelines_library.import_model(name_path_tests)"
   ]
  },
  {
   "cell_type": "markdown",
   "metadata": {},
   "source": [
    "# 2.- Data Collection from Data Sources"
   ]
  },
  {
   "cell_type": "code",
   "execution_count": 23,
   "metadata": {},
   "outputs": [],
   "source": [
    "df_current_data = data_pipelines_library.loading_dataset(name_path, default_name_file_current_data)"
   ]
  },
  {
   "cell_type": "markdown",
   "metadata": {},
   "source": [
    "# 3.- Data Transformation / Processing"
   ]
  },
  {
   "cell_type": "markdown",
   "metadata": {},
   "source": [
    "### Data Transformation / Processing: Data Standardization"
   ]
  },
  {
   "cell_type": "code",
   "execution_count": 27,
   "metadata": {},
   "outputs": [],
   "source": [
    "Xcurrent_data_norm = data_pipelines_library.standardizing_dataset_production(df_current_data, cols_categorical, cols_non_categorical, \\\n",
    "                                                                             cols_dummy, cols_all_variables, dfmean, dfstd)"
   ]
  },
  {
   "cell_type": "markdown",
   "metadata": {},
   "source": [
    "## 4.- Data Ingestion"
   ]
  },
  {
   "cell_type": "code",
   "execution_count": 30,
   "metadata": {},
   "outputs": [],
   "source": [
    "# The data on which the model would be used is properly stored\n",
    "data_pipelines_library.storing_dataset(Xcurrent_data_norm, name_path_tests, default_name_file_Xtrain_production)"
   ]
  },
  {
   "cell_type": "markdown",
   "metadata": {},
   "source": [
    "## 5.- Running the Model in Production"
   ]
  },
  {
   "cell_type": "code",
   "execution_count": 33,
   "metadata": {},
   "outputs": [],
   "source": [
    "df_current_data[probability_target_column] = model_xgb.predict_proba(Xcurrent_data_norm)[:,1]"
   ]
  },
  {
   "cell_type": "markdown",
   "metadata": {},
   "source": [
    "## 6.- Data Delivered at Destination Point for Consumption"
   ]
  },
  {
   "cell_type": "code",
   "execution_count": 36,
   "metadata": {},
   "outputs": [],
   "source": [
    "data_pipelines_library.storing_dataset(df_current_data, name_path_tests, default_name_exported_predictions)"
   ]
  },
  {
   "cell_type": "code",
   "execution_count": null,
   "metadata": {},
   "outputs": [],
   "source": []
  }
 ],
 "metadata": {
  "kernelspec": {
   "display_name": "Python 3 (ipykernel)",
   "language": "python",
   "name": "python3"
  },
  "language_info": {
   "codemirror_mode": {
    "name": "ipython",
    "version": 3
   },
   "file_extension": ".py",
   "mimetype": "text/x-python",
   "name": "python",
   "nbconvert_exporter": "python",
   "pygments_lexer": "ipython3",
   "version": "3.12.7"
  }
 },
 "nbformat": 4,
 "nbformat_minor": 4
}
